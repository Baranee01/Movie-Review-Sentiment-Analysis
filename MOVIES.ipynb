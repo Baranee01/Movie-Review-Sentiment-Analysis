{
  "nbformat": 4,
  "nbformat_minor": 0,
  "metadata": {
    "colab": {
      "name": "Untitled1.ipynb",
      "provenance": [],
      "collapsed_sections": []
    },
    "kernelspec": {
      "name": "python3",
      "display_name": "Python 3"
    },
    "language_info": {
      "name": "python"
    }
  },
  "cells": [
    {
      "cell_type": "code",
      "metadata": {
        "id": "AKasFeDni7BR"
      },
      "source": [
        "# IMPORTING THE PACKAGES\n",
        "import numpy as np\n",
        "import pandas as pd\n",
        "import seaborn as sns\n",
        "import matplotlib.pyplot as plt\n",
        "import warnings\n",
        "warnings.filterwarnings('ignore')"
      ],
      "execution_count": 42,
      "outputs": []
    },
    {
      "cell_type": "code",
      "metadata": {
        "colab": {
          "base_uri": "https://localhost:8080/",
          "height": 195
        },
        "id": "V25fhKvokGe1",
        "outputId": "16941069-5f47-4a3a-eec8-bd5c2e0930a7"
      },
      "source": [
        "# LOADING THE TRAINING DATASET\n",
        "train = pd.read_csv('train.tsv',sep ='\\t')\n",
        "train.head(5)"
      ],
      "execution_count": 43,
      "outputs": [
        {
          "output_type": "execute_result",
          "data": {
            "text/html": [
              "<div>\n",
              "<style scoped>\n",
              "    .dataframe tbody tr th:only-of-type {\n",
              "        vertical-align: middle;\n",
              "    }\n",
              "\n",
              "    .dataframe tbody tr th {\n",
              "        vertical-align: top;\n",
              "    }\n",
              "\n",
              "    .dataframe thead th {\n",
              "        text-align: right;\n",
              "    }\n",
              "</style>\n",
              "<table border=\"1\" class=\"dataframe\">\n",
              "  <thead>\n",
              "    <tr style=\"text-align: right;\">\n",
              "      <th></th>\n",
              "      <th>PhraseId</th>\n",
              "      <th>SentenceId</th>\n",
              "      <th>Phrase</th>\n",
              "      <th>Sentiment</th>\n",
              "    </tr>\n",
              "  </thead>\n",
              "  <tbody>\n",
              "    <tr>\n",
              "      <th>0</th>\n",
              "      <td>1</td>\n",
              "      <td>1</td>\n",
              "      <td>A series of escapades demonstrating the adage ...</td>\n",
              "      <td>1</td>\n",
              "    </tr>\n",
              "    <tr>\n",
              "      <th>1</th>\n",
              "      <td>2</td>\n",
              "      <td>1</td>\n",
              "      <td>A series of escapades demonstrating the adage ...</td>\n",
              "      <td>2</td>\n",
              "    </tr>\n",
              "    <tr>\n",
              "      <th>2</th>\n",
              "      <td>3</td>\n",
              "      <td>1</td>\n",
              "      <td>A series</td>\n",
              "      <td>2</td>\n",
              "    </tr>\n",
              "    <tr>\n",
              "      <th>3</th>\n",
              "      <td>4</td>\n",
              "      <td>1</td>\n",
              "      <td>A</td>\n",
              "      <td>2</td>\n",
              "    </tr>\n",
              "    <tr>\n",
              "      <th>4</th>\n",
              "      <td>5</td>\n",
              "      <td>1</td>\n",
              "      <td>series</td>\n",
              "      <td>2</td>\n",
              "    </tr>\n",
              "  </tbody>\n",
              "</table>\n",
              "</div>"
            ],
            "text/plain": [
              "   PhraseId  ...  Sentiment\n",
              "0         1  ...          1\n",
              "1         2  ...          2\n",
              "2         3  ...          2\n",
              "3         4  ...          2\n",
              "4         5  ...          2\n",
              "\n",
              "[5 rows x 4 columns]"
            ]
          },
          "metadata": {
            "tags": []
          },
          "execution_count": 43
        }
      ]
    },
    {
      "cell_type": "code",
      "metadata": {
        "colab": {
          "base_uri": "https://localhost:8080/",
          "height": 195
        },
        "id": "8J1AwzmVq-aP",
        "outputId": "79905314-56f7-4def-9da0-ca9e9811245b"
      },
      "source": [
        "# LOADING THE TEST DATASET\n",
        "test = pd.read_csv('test.tsv',sep ='\\t')\n",
        "test.head(5)"
      ],
      "execution_count": 44,
      "outputs": [
        {
          "output_type": "execute_result",
          "data": {
            "text/html": [
              "<div>\n",
              "<style scoped>\n",
              "    .dataframe tbody tr th:only-of-type {\n",
              "        vertical-align: middle;\n",
              "    }\n",
              "\n",
              "    .dataframe tbody tr th {\n",
              "        vertical-align: top;\n",
              "    }\n",
              "\n",
              "    .dataframe thead th {\n",
              "        text-align: right;\n",
              "    }\n",
              "</style>\n",
              "<table border=\"1\" class=\"dataframe\">\n",
              "  <thead>\n",
              "    <tr style=\"text-align: right;\">\n",
              "      <th></th>\n",
              "      <th>PhraseId</th>\n",
              "      <th>SentenceId</th>\n",
              "      <th>Phrase</th>\n",
              "    </tr>\n",
              "  </thead>\n",
              "  <tbody>\n",
              "    <tr>\n",
              "      <th>0</th>\n",
              "      <td>156061</td>\n",
              "      <td>8545</td>\n",
              "      <td>An intermittently pleasing but mostly routine ...</td>\n",
              "    </tr>\n",
              "    <tr>\n",
              "      <th>1</th>\n",
              "      <td>156062</td>\n",
              "      <td>8545</td>\n",
              "      <td>An intermittently pleasing but mostly routine ...</td>\n",
              "    </tr>\n",
              "    <tr>\n",
              "      <th>2</th>\n",
              "      <td>156063</td>\n",
              "      <td>8545</td>\n",
              "      <td>An</td>\n",
              "    </tr>\n",
              "    <tr>\n",
              "      <th>3</th>\n",
              "      <td>156064</td>\n",
              "      <td>8545</td>\n",
              "      <td>intermittently pleasing but mostly routine effort</td>\n",
              "    </tr>\n",
              "    <tr>\n",
              "      <th>4</th>\n",
              "      <td>156065</td>\n",
              "      <td>8545</td>\n",
              "      <td>intermittently pleasing but mostly routine</td>\n",
              "    </tr>\n",
              "  </tbody>\n",
              "</table>\n",
              "</div>"
            ],
            "text/plain": [
              "   PhraseId  SentenceId                                             Phrase\n",
              "0    156061        8545  An intermittently pleasing but mostly routine ...\n",
              "1    156062        8545  An intermittently pleasing but mostly routine ...\n",
              "2    156063        8545                                                 An\n",
              "3    156064        8545  intermittently pleasing but mostly routine effort\n",
              "4    156065        8545         intermittently pleasing but mostly routine"
            ]
          },
          "metadata": {
            "tags": []
          },
          "execution_count": 44
        }
      ]
    },
    {
      "cell_type": "code",
      "metadata": {
        "colab": {
          "base_uri": "https://localhost:8080/",
          "height": 465
        },
        "id": "7_Hlkv37kxld",
        "outputId": "54deb66e-39b7-49b0-a311-27fa9457f1e6"
      },
      "source": [
        "# COUNT OF PHRASES BASED ON SENTIMENTS\n",
        "sns.countplot(train['Sentiment'])\n",
        "plt.xlabel('Sentiment expressed in Reviews')\n",
        "plt.ylabel('Number of Reviews')"
      ],
      "execution_count": 45,
      "outputs": [
        {
          "output_type": "execute_result",
          "data": {
            "text/plain": [
              "Text(0, 0.5, 'Number of Reviews')"
            ]
          },
          "metadata": {
            "tags": []
          },
          "execution_count": 45
        },
        {
          "output_type": "display_data",
          "data": {
            "image/png": "[encoded data removed]",
            "text/plain": [
              "<Figure size 504x504 with 1 Axes>"
            ]
          },
          "metadata": {
            "tags": []
          }
        }
      ]
    },
    {
      "cell_type": "code",
      "metadata": {
        "colab": {
          "base_uri": "https://localhost:8080/",
          "height": 195
        },
        "id": "nrCNJh2alO4E",
        "outputId": "342ac049-8aa5-4089-c156-29f7736fe772"
      },
      "source": [
        "# SETTING SENTIMENT LABELS\n",
        "def label(train):\n",
        "        if train['Sentiment'] == 0:\n",
        "            return 'negative'\n",
        "        elif train['Sentiment'] == 1:\n",
        "            return 'somewhat negative'\n",
        "        elif train['Sentiment']==2:\n",
        "            return 'neutral'\n",
        "        elif train['Sentiment']==3:\n",
        "            return 'somewhat positive'\n",
        "        else:\n",
        "            return 'positive'\n",
        "\n",
        "train['Label'] = train.apply(label,axis=1)\n",
        "train.head(5)"
      ],
      "execution_count": 46,
      "outputs": [
        {
          "output_type": "execute_result",
          "data": {
            "text/html": [
              "<div>\n",
              "<style scoped>\n",
              "    .dataframe tbody tr th:only-of-type {\n",
              "        vertical-align: middle;\n",
              "    }\n",
              "\n",
              "    .dataframe tbody tr th {\n",
              "        vertical-align: top;\n",
              "    }\n",
              "\n",
              "    .dataframe thead th {\n",
              "        text-align: right;\n",
              "    }\n",
              "</style>\n",
              "<table border=\"1\" class=\"dataframe\">\n",
              "  <thead>\n",
              "    <tr style=\"text-align: right;\">\n",
              "      <th></th>\n",
              "      <th>PhraseId</th>\n",
              "      <th>SentenceId</th>\n",
              "      <th>Phrase</th>\n",
              "      <th>Sentiment</th>\n",
              "      <th>Label</th>\n",
              "    </tr>\n",
              "  </thead>\n",
              "  <tbody>\n",
              "    <tr>\n",
              "      <th>0</th>\n",
              "      <td>1</td>\n",
              "      <td>1</td>\n",
              "      <td>A series of escapades demonstrating the adage ...</td>\n",
              "      <td>1</td>\n",
              "      <td>somewhat negative</td>\n",
              "    </tr>\n",
              "    <tr>\n",
              "      <th>1</th>\n",
              "      <td>2</td>\n",
              "      <td>1</td>\n",
              "      <td>A series of escapades demonstrating the adage ...</td>\n",
              "      <td>2</td>\n",
              "      <td>neutral</td>\n",
              "    </tr>\n",
              "    <tr>\n",
              "      <th>2</th>\n",
              "      <td>3</td>\n",
              "      <td>1</td>\n",
              "      <td>A series</td>\n",
              "      <td>2</td>\n",
              "      <td>neutral</td>\n",
              "    </tr>\n",
              "    <tr>\n",
              "      <th>3</th>\n",
              "      <td>4</td>\n",
              "      <td>1</td>\n",
              "      <td>A</td>\n",
              "      <td>2</td>\n",
              "      <td>neutral</td>\n",
              "    </tr>\n",
              "    <tr>\n",
              "      <th>4</th>\n",
              "      <td>5</td>\n",
              "      <td>1</td>\n",
              "      <td>series</td>\n",
              "      <td>2</td>\n",
              "      <td>neutral</td>\n",
              "    </tr>\n",
              "  </tbody>\n",
              "</table>\n",
              "</div>"
            ],
            "text/plain": [
              "   PhraseId  SentenceId  ... Sentiment              Label\n",
              "0         1           1  ...         1  somewhat negative\n",
              "1         2           1  ...         2            neutral\n",
              "2         3           1  ...         2            neutral\n",
              "3         4           1  ...         2            neutral\n",
              "4         5           1  ...         2            neutral\n",
              "\n",
              "[5 rows x 5 columns]"
            ]
          },
          "metadata": {
            "tags": []
          },
          "execution_count": 46
        }
      ]
    },
    {
      "cell_type": "code",
      "metadata": {
        "colab": {
          "base_uri": "https://localhost:8080/"
        },
        "id": "nvvOcS-AnwnM",
        "outputId": "4ac063f3-9ffb-4c41-e7b4-ea6be81e3695"
      },
      "source": [
        "# CHECKING FOR NULL VALUES\n",
        "train.isnull().sum()"
      ],
      "execution_count": 47,
      "outputs": [
        {
          "output_type": "execute_result",
          "data": {
            "text/plain": [
              "PhraseId      0\n",
              "SentenceId    0\n",
              "Phrase        0\n",
              "Sentiment     0\n",
              "Label         0\n",
              "dtype: int64"
            ]
          },
          "metadata": {
            "tags": []
          },
          "execution_count": 47
        }
      ]
    },
    {
      "cell_type": "code",
      "metadata": {
        "id": "YFIxxIVYyJLM"
      },
      "source": [
        "# TF_IDF VECTORIZER\n",
        "from sklearn.feature_extraction.text import TfidfVectorizer\n",
        "from nltk.tokenize import TweetTokenizer\n",
        "\n",
        "tokenizer = TweetTokenizer()\n",
        "\n",
        "vectorizer = TfidfVectorizer(ngram_range=(1, 3), tokenizer=tokenizer.tokenize)\n",
        "full_text = list(train['Phrase'].values) + list(test['Phrase'].values)\n",
        "\n",
        "vectorizer.fit(full_text)\n",
        "train_vectorized = vectorizer.transform(train['Phrase'])\n",
        "test_vectorized = vectorizer.transform(test['Phrase'])"
      ],
      "execution_count": 48,
      "outputs": []
    },
    {
      "cell_type": "code",
      "metadata": {
        "id": "OvE0pJdxsCzx"
      },
      "source": [
        "# SPLITTING TRAINING AND TEST DATA\n",
        "from sklearn.model_selection import train_test_split\n",
        "X = train_vectorized\n",
        "y = train['Sentiment']\n",
        "X_train,X_test,y_train,y_test = train_test_split(X,y,test_size=0.3)"
      ],
      "execution_count": 49,
      "outputs": []
    },
    {
      "cell_type": "code",
      "metadata": {
        "colab": {
          "base_uri": "https://localhost:8080/"
        },
        "id": "0ubfRc_Eww4x",
        "outputId": "bf40c4a5-d269-468d-9d0c-f1d11d175af2"
      },
      "source": [
        "# LOGISTIC REGRESSION\n",
        "from sklearn.linear_model import LogisticRegression\n",
        "from sklearn.metrics import accuracy_score, classification_report\n",
        "logreg = LogisticRegression(multi_class='ovr', solver='sag', random_state=42)\n",
        "logreg.fit(X_train, y_train)\n",
        "y_pred = logreg.predict(X_test)\n",
        "acc = accuracy_score(y_pred, y_test)\n",
        "lgacc = acc\n",
        "print('\\tAccuracy: ', acc)\n",
        "print('\\nClassification Report')\n",
        "print(classification_report(y_test, y_pred))"
      ],
      "execution_count": 50,
      "outputs": [
        {
          "output_type": "stream",
          "text": [
            "\tAccuracy:  0.6253150497671836\n",
            "\n",
            "Classification Report\n",
            "              precision    recall  f1-score   support\n",
            "\n",
            "           0       0.62      0.16      0.26      2113\n",
            "           1       0.56      0.32      0.40      8189\n",
            "           2       0.64      0.91      0.75     23949\n",
            "           3       0.59      0.41      0.48      9790\n",
            "           4       0.67      0.20      0.31      2777\n",
            "\n",
            "    accuracy                           0.63     46818\n",
            "   macro avg       0.62      0.40      0.44     46818\n",
            "weighted avg       0.62      0.63      0.59     46818\n",
            "\n"
          ],
          "name": "stdout"
        }
      ]
    },
    {
      "cell_type": "code",
      "metadata": {
        "colab": {
          "base_uri": "https://localhost:8080/"
        },
        "id": "oobdpJ3o6bpt",
        "outputId": "64841aa4-fbde-40ff-ebc0-a6b4fe0a2389"
      },
      "source": [
        "# K-NEAREST NEIGHBOUR CLASSIFIER\n",
        "from sklearn.neighbors import KNeighborsClassifier\n",
        "from sklearn.metrics import accuracy_score, classification_report\n",
        "knn = KNeighborsClassifier()\n",
        "knn.fit(X_train, y_train)\n",
        "y_pred = knn.predict(X_test)\n",
        "acc = accuracy_score(y_pred, y_test)\n",
        "knnacc = acc\n",
        "print('\\tAccuracy: ', acc)\n",
        "print('\\nClassification Report')\n",
        "print(classification_report(y_test, y_pred))"
      ],
      "execution_count": 51,
      "outputs": [
        {
          "output_type": "stream",
          "text": [
            "\tAccuracy:  0.5859071297364261\n",
            "\n",
            "Classification Report\n",
            "              precision    recall  f1-score   support\n",
            "\n",
            "           0       0.36      0.39      0.38      2113\n",
            "           1       0.45      0.51      0.48      8189\n",
            "           2       0.69      0.71      0.70     23949\n",
            "           3       0.52      0.46      0.49      9790\n",
            "           4       0.49      0.30      0.37      2777\n",
            "\n",
            "    accuracy                           0.59     46818\n",
            "   macro avg       0.50      0.47      0.48     46818\n",
            "weighted avg       0.58      0.59      0.58     46818\n",
            "\n"
          ],
          "name": "stdout"
        }
      ]
    },
    {
      "cell_type": "code",
      "metadata": {
        "colab": {
          "base_uri": "https://localhost:8080/"
        },
        "id": "vn1BjO55w3BU",
        "outputId": "5553a497-f7dc-48e0-ade6-5a62041a91be"
      },
      "source": [
        "# LINEAR SVC\n",
        "from sklearn.svm import LinearSVC\n",
        "from sklearn.metrics import accuracy_score, classification_report\n",
        "svc = LinearSVC(multi_class='ovr', random_state=42)\n",
        "svc.fit(X_train, y_train)\n",
        "y_pred = svc.predict(X_test)\n",
        "acc = accuracy_score(y_pred, y_test)\n",
        "svcacc = acc\n",
        "print('\\tAccuracy: ', acc)\n",
        "print('\\nClassification Report')\n",
        "print(classification_report(y_test, y_pred))"
      ],
      "execution_count": 52,
      "outputs": [
        {
          "output_type": "stream",
          "text": [
            "\tAccuracy:  0.6474219317356572\n",
            "\n",
            "Classification Report\n",
            "              precision    recall  f1-score   support\n",
            "\n",
            "           0       0.49      0.37      0.42      2113\n",
            "           1       0.55      0.49      0.52      8189\n",
            "           2       0.72      0.81      0.76     23949\n",
            "           3       0.57      0.51      0.54      9790\n",
            "           4       0.52      0.40      0.45      2777\n",
            "\n",
            "    accuracy                           0.65     46818\n",
            "   macro avg       0.57      0.52      0.54     46818\n",
            "weighted avg       0.64      0.65      0.64     46818\n",
            "\n"
          ],
          "name": "stdout"
        }
      ]
    },
    {
      "cell_type": "code",
      "metadata": {
        "colab": {
          "base_uri": "https://localhost:8080/"
        },
        "id": "rGtn7yfDw0uo",
        "outputId": "9681cd2d-d97c-4089-822d-ecd939fb4724"
      },
      "source": [
        "# MULTINOMIAL NAIVE BAYES\n",
        "from sklearn.naive_bayes import MultinomialNB\n",
        "from sklearn.metrics import accuracy_score, classification_report\n",
        "nb = MultinomialNB()\n",
        "nb.fit(X_train, y_train)\n",
        "y_pred = nb.predict(X_test)\n",
        "acc = accuracy_score(y_pred, y_test)\n",
        "nbacc = acc\n",
        "print('\\tAccuracy:', acc)\n",
        "print('\\nClassification Report')\n",
        "print(classification_report(y_test, y_pred))"
      ],
      "execution_count": 53,
      "outputs": [
        {
          "output_type": "stream",
          "text": [
            "\tAccuracy: 0.5947498825238157\n",
            "\n",
            "Classification Report\n",
            "              precision    recall  f1-score   support\n",
            "\n",
            "           0       0.65      0.02      0.04      2113\n",
            "           1       0.56      0.22      0.31      8189\n",
            "           2       0.60      0.94      0.73     23949\n",
            "           3       0.58      0.35      0.44      9790\n",
            "           4       0.73      0.04      0.08      2777\n",
            "\n",
            "    accuracy                           0.59     46818\n",
            "   macro avg       0.62      0.31      0.32     46818\n",
            "weighted avg       0.60      0.59      0.53     46818\n",
            "\n"
          ],
          "name": "stdout"
        }
      ]
    },
    {
      "cell_type": "code",
      "metadata": {
        "id": "3AJXQlaT84u6"
      },
      "source": [
        "# PREDICTING TEST SET USING LOGISTIC REGRESSION\n",
        "logreg_pred = logreg.predict(test_vectorized)\n",
        "results = pd.DataFrame()\n",
        "results['PhraseId'] = test.PhraseId\n",
        "results['Sentiment'] = logreg_pred\n",
        "results.to_csv('Results (Logistic Regression).csv',index=False)"
      ],
      "execution_count": 54,
      "outputs": []
    },
    {
      "cell_type": "code",
      "metadata": {
        "id": "QgWAb-kz-xi4"
      },
      "source": [
        "# PREDICTING TEST SET USING KNN\n",
        "knn_pred = knn.predict(test_vectorized)\n",
        "results = pd.DataFrame()\n",
        "results['PhraseId'] = test.PhraseId\n",
        "results['Sentiment'] = knn_pred\n",
        "results.to_csv('Results (KNN).csv',index=False)"
      ],
      "execution_count": 55,
      "outputs": []
    },
    {
      "cell_type": "code",
      "metadata": {
        "id": "Us-P9oA2-mT_"
      },
      "source": [
        "# PREDICTING TEST SET USING LINEAR SVC\n",
        "svc_pred = svc.predict(test_vectorized)\n",
        "results = pd.DataFrame()\n",
        "results['PhraseId'] = test.PhraseId\n",
        "results['Sentiment'] = svc_pred\n",
        "results.to_csv('Results (Linear SVC).csv',index=False)"
      ],
      "execution_count": 56,
      "outputs": []
    },
    {
      "cell_type": "code",
      "metadata": {
        "id": "VzojksN_-Nt5"
      },
      "source": [
        "# PREDICTING TEST SET USING MULTINOMIAL NAIVE BAYES\n",
        "nb_pred = nb.predict(test_vectorized)\n",
        "results = pd.DataFrame()\n",
        "results['PhraseId'] = test.PhraseId\n",
        "results['Sentiment'] = nb_pred\n",
        "results.to_csv('Results (Multinomial NB).csv',index=False)"
      ],
      "execution_count": 57,
      "outputs": []
    },
    {
      "cell_type": "code",
      "metadata": {
        "colab": {
          "base_uri": "https://localhost:8080/",
          "height": 548
        },
        "id": "D6PuDpjJ--i_",
        "outputId": "4847b9b5-2ea6-4b6b-fe5a-eb2a04fe9f00"
      },
      "source": [
        "# COMPARING ALL THE MODELS\n",
        "scores = [lgacc,knnacc,svcacc,nbacc]\n",
        "algorithms = [\"Logistic Regression\",\"KNN\",\"Linear SVC\",\"Multinomial NB\"]\n",
        "for i in range(len(algorithms)):\n",
        "    print(\"The accuracy score achieved using \"+algorithms[i]+\" is: \"+str(scores[i])+\" %\")\n",
        "sns.set(rc={'figure.figsize':(7,7)})\n",
        "plt.title(\"Comparison\")\n",
        "plt.xlabel(\"Algorithms\")\n",
        "plt.ylabel(\"Accuracy score\")\n",
        "sns.barplot(algorithms,scores)"
      ],
      "execution_count": 58,
      "outputs": [
        {
          "output_type": "stream",
          "text": [
            "The accuracy score achieved using Logistic Regression is: 0.6253150497671836 %\n",
            "The accuracy score achieved using KNN is: 0.5859071297364261 %\n",
            "The accuracy score achieved using Linear SVC is: 0.6474219317356572 %\n",
            "The accuracy score achieved using Multinomial NB is: 0.5947498825238157 %\n"
          ],
          "name": "stdout"
        },
        {
          "output_type": "execute_result",
          "data": {
            "text/plain": [
              "<matplotlib.axes._subplots.AxesSubplot at 0x7f43cbee45d0>"
            ]
          },
          "metadata": {
            "tags": []
          },
          "execution_count": 58
        },
        {
          "output_type": "display_data",
          "data": {
            "image/png": "[encoded data removed]",
            "text/plain": [
              "<Figure size 504x504 with 1 Axes>"
            ]
          },
          "metadata": {
            "tags": []
          }
        }
      ]
    }
  ]
}