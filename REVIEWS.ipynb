{
  "nbformat": 4,
  "nbformat_minor": 0,
  "metadata": {
    "colab": {
      "name": "Untitled1.ipynb",
      "provenance": [],
      "collapsed_sections": []
    },
    "kernelspec": {
      "name": "python3",
      "display_name": "Python 3"
    },
    "language_info": {
      "name": "python"
    }
  },
  "cells": [
    {
      "cell_type": "code",
      "metadata": {
        "id": "AKasFeDni7BR"
      },
      "source": [
        "# IMPORTING THE PACKAGES\n",
        "import numpy as np\n",
        "import pandas as pd\n",
        "import seaborn as sns\n",
        "import matplotlib.pyplot as plt\n",
        "import warnings\n",
        "warnings.filterwarnings('ignore')"
      ],
      "execution_count": 84,
      "outputs": []
    },
    {
      "cell_type": "code",
      "metadata": {
        "colab": {
          "base_uri": "https://localhost:8080/",
          "height": 195
        },
        "id": "V25fhKvokGe1",
        "outputId": "2e92afe1-af2e-4221-a191-b9d67a41e3aa"
      },
      "source": [
        "# LOADING THE TRAINING DATASET\n",
        "train = pd.read_csv('train.tsv',sep ='\\t')\n",
        "train.head(5)"
      ],
      "execution_count": 85,
      "outputs": [
        {
          "output_type": "execute_result",
          "data": {
            "text/html": [
              "<div>\n",
              "<style scoped>\n",
              "    .dataframe tbody tr th:only-of-type {\n",
              "        vertical-align: middle;\n",
              "    }\n",
              "\n",
              "    .dataframe tbody tr th {\n",
              "        vertical-align: top;\n",
              "    }\n",
              "\n",
              "    .dataframe thead th {\n",
              "        text-align: right;\n",
              "    }\n",
              "</style>\n",
              "<table border=\"1\" class=\"dataframe\">\n",
              "  <thead>\n",
              "    <tr style=\"text-align: right;\">\n",
              "      <th></th>\n",
              "      <th>PhraseId</th>\n",
              "      <th>SentenceId</th>\n",
              "      <th>Phrase</th>\n",
              "      <th>Sentiment</th>\n",
              "    </tr>\n",
              "  </thead>\n",
              "  <tbody>\n",
              "    <tr>\n",
              "      <th>0</th>\n",
              "      <td>1</td>\n",
              "      <td>1</td>\n",
              "      <td>A series of escapades demonstrating the adage ...</td>\n",
              "      <td>1</td>\n",
              "    </tr>\n",
              "    <tr>\n",
              "      <th>1</th>\n",
              "      <td>2</td>\n",
              "      <td>1</td>\n",
              "      <td>A series of escapades demonstrating the adage ...</td>\n",
              "      <td>2</td>\n",
              "    </tr>\n",
              "    <tr>\n",
              "      <th>2</th>\n",
              "      <td>3</td>\n",
              "      <td>1</td>\n",
              "      <td>A series</td>\n",
              "      <td>2</td>\n",
              "    </tr>\n",
              "    <tr>\n",
              "      <th>3</th>\n",
              "      <td>4</td>\n",
              "      <td>1</td>\n",
              "      <td>A</td>\n",
              "      <td>2</td>\n",
              "    </tr>\n",
              "    <tr>\n",
              "      <th>4</th>\n",
              "      <td>5</td>\n",
              "      <td>1</td>\n",
              "      <td>series</td>\n",
              "      <td>2</td>\n",
              "    </tr>\n",
              "  </tbody>\n",
              "</table>\n",
              "</div>"
            ],
            "text/plain": [
              "   PhraseId  ...  Sentiment\n",
              "0         1  ...          1\n",
              "1         2  ...          2\n",
              "2         3  ...          2\n",
              "3         4  ...          2\n",
              "4         5  ...          2\n",
              "\n",
              "[5 rows x 4 columns]"
            ]
          },
          "metadata": {
            "tags": []
          },
          "execution_count": 85
        }
      ]
    },
    {
      "cell_type": "code",
      "metadata": {
        "colab": {
          "base_uri": "https://localhost:8080/",
          "height": 195
        },
        "id": "8J1AwzmVq-aP",
        "outputId": "30269aac-74fb-4d14-d721-87fe8472659b"
      },
      "source": [
        "# LOADING THE TEST DATASET\n",
        "test = pd.read_csv('test.tsv',sep ='\\t')\n",
        "test.head(5)"
      ],
      "execution_count": 86,
      "outputs": [
        {
          "output_type": "execute_result",
          "data": {
            "text/html": [
              "<div>\n",
              "<style scoped>\n",
              "    .dataframe tbody tr th:only-of-type {\n",
              "        vertical-align: middle;\n",
              "    }\n",
              "\n",
              "    .dataframe tbody tr th {\n",
              "        vertical-align: top;\n",
              "    }\n",
              "\n",
              "    .dataframe thead th {\n",
              "        text-align: right;\n",
              "    }\n",
              "</style>\n",
              "<table border=\"1\" class=\"dataframe\">\n",
              "  <thead>\n",
              "    <tr style=\"text-align: right;\">\n",
              "      <th></th>\n",
              "      <th>PhraseId</th>\n",
              "      <th>SentenceId</th>\n",
              "      <th>Phrase</th>\n",
              "    </tr>\n",
              "  </thead>\n",
              "  <tbody>\n",
              "    <tr>\n",
              "      <th>0</th>\n",
              "      <td>156061</td>\n",
              "      <td>8545</td>\n",
              "      <td>An intermittently pleasing but mostly routine ...</td>\n",
              "    </tr>\n",
              "    <tr>\n",
              "      <th>1</th>\n",
              "      <td>156062</td>\n",
              "      <td>8545</td>\n",
              "      <td>An intermittently pleasing but mostly routine ...</td>\n",
              "    </tr>\n",
              "    <tr>\n",
              "      <th>2</th>\n",
              "      <td>156063</td>\n",
              "      <td>8545</td>\n",
              "      <td>An</td>\n",
              "    </tr>\n",
              "    <tr>\n",
              "      <th>3</th>\n",
              "      <td>156064</td>\n",
              "      <td>8545</td>\n",
              "      <td>intermittently pleasing but mostly routine effort</td>\n",
              "    </tr>\n",
              "    <tr>\n",
              "      <th>4</th>\n",
              "      <td>156065</td>\n",
              "      <td>8545</td>\n",
              "      <td>intermittently pleasing but mostly routine</td>\n",
              "    </tr>\n",
              "  </tbody>\n",
              "</table>\n",
              "</div>"
            ],
            "text/plain": [
              "   PhraseId  SentenceId                                             Phrase\n",
              "0    156061        8545  An intermittently pleasing but mostly routine ...\n",
              "1    156062        8545  An intermittently pleasing but mostly routine ...\n",
              "2    156063        8545                                                 An\n",
              "3    156064        8545  intermittently pleasing but mostly routine effort\n",
              "4    156065        8545         intermittently pleasing but mostly routine"
            ]
          },
          "metadata": {
            "tags": []
          },
          "execution_count": 86
        }
      ]
    },
    {
      "cell_type": "code",
      "metadata": {
        "colab": {
          "base_uri": "https://localhost:8080/",
          "height": 465
        },
        "id": "7_Hlkv37kxld",
        "outputId": "d2c0d002-5fdf-4aaa-eb24-50c6de7207c9"
      },
      "source": [
        "# COUNT OF PHRASES BASED ON SENTIMENTS\n",
        "sns.countplot(train['Sentiment'])\n",
        "plt.xlabel('Sentiment expressed in Reviews')\n",
        "plt.ylabel('Number of Reviews')"
      ],
      "execution_count": 87,
      "outputs": [
        {
          "output_type": "execute_result",
          "data": {
            "text/plain": [
              "Text(0, 0.5, 'Number of Reviews')"
            ]
          },
          "metadata": {
            "tags": []
          },
          "execution_count": 87
        },
        {
          "output_type": "display_data",
          "data": {
            "image/png": "[encoded data removed]",
            "text/plain": [
              "<Figure size 504x504 with 1 Axes>"
            ]
          },
          "metadata": {
            "tags": []
          }
        }
      ]
    },
    {
      "cell_type": "code",
      "metadata": {
        "colab": {
          "base_uri": "https://localhost:8080/",
          "height": 195
        },
        "id": "nrCNJh2alO4E",
        "outputId": "9832590c-b39d-4ac4-b7d9-08d91ef5d5db"
      },
      "source": [
        "# SETTING SENTIMENT LABELS\n",
        "def label(train):\n",
        "        if train['Sentiment'] == 0:\n",
        "            return 'negative'\n",
        "        elif train['Sentiment'] == 1:\n",
        "            return 'somewhat negative'\n",
        "        elif train['Sentiment']==2:\n",
        "            return 'neutral'\n",
        "        elif train['Sentiment']==3:\n",
        "            return 'somewhat positive'\n",
        "        else:\n",
        "            return 'positive'\n",
        "\n",
        "train['Label'] = train.apply(label,axis=1)\n",
        "train.head(5)"
      ],
      "execution_count": 88,
      "outputs": [
        {
          "output_type": "execute_result",
          "data": {
            "text/html": [
              "<div>\n",
              "<style scoped>\n",
              "    .dataframe tbody tr th:only-of-type {\n",
              "        vertical-align: middle;\n",
              "    }\n",
              "\n",
              "    .dataframe tbody tr th {\n",
              "        vertical-align: top;\n",
              "    }\n",
              "\n",
              "    .dataframe thead th {\n",
              "        text-align: right;\n",
              "    }\n",
              "</style>\n",
              "<table border=\"1\" class=\"dataframe\">\n",
              "  <thead>\n",
              "    <tr style=\"text-align: right;\">\n",
              "      <th></th>\n",
              "      <th>PhraseId</th>\n",
              "      <th>SentenceId</th>\n",
              "      <th>Phrase</th>\n",
              "      <th>Sentiment</th>\n",
              "      <th>Label</th>\n",
              "    </tr>\n",
              "  </thead>\n",
              "  <tbody>\n",
              "    <tr>\n",
              "      <th>0</th>\n",
              "      <td>1</td>\n",
              "      <td>1</td>\n",
              "      <td>A series of escapades demonstrating the adage ...</td>\n",
              "      <td>1</td>\n",
              "      <td>somewhat negative</td>\n",
              "    </tr>\n",
              "    <tr>\n",
              "      <th>1</th>\n",
              "      <td>2</td>\n",
              "      <td>1</td>\n",
              "      <td>A series of escapades demonstrating the adage ...</td>\n",
              "      <td>2</td>\n",
              "      <td>neutral</td>\n",
              "    </tr>\n",
              "    <tr>\n",
              "      <th>2</th>\n",
              "      <td>3</td>\n",
              "      <td>1</td>\n",
              "      <td>A series</td>\n",
              "      <td>2</td>\n",
              "      <td>neutral</td>\n",
              "    </tr>\n",
              "    <tr>\n",
              "      <th>3</th>\n",
              "      <td>4</td>\n",
              "      <td>1</td>\n",
              "      <td>A</td>\n",
              "      <td>2</td>\n",
              "      <td>neutral</td>\n",
              "    </tr>\n",
              "    <tr>\n",
              "      <th>4</th>\n",
              "      <td>5</td>\n",
              "      <td>1</td>\n",
              "      <td>series</td>\n",
              "      <td>2</td>\n",
              "      <td>neutral</td>\n",
              "    </tr>\n",
              "  </tbody>\n",
              "</table>\n",
              "</div>"
            ],
            "text/plain": [
              "   PhraseId  SentenceId  ... Sentiment              Label\n",
              "0         1           1  ...         1  somewhat negative\n",
              "1         2           1  ...         2            neutral\n",
              "2         3           1  ...         2            neutral\n",
              "3         4           1  ...         2            neutral\n",
              "4         5           1  ...         2            neutral\n",
              "\n",
              "[5 rows x 5 columns]"
            ]
          },
          "metadata": {
            "tags": []
          },
          "execution_count": 88
        }
      ]
    },
    {
      "cell_type": "code",
      "metadata": {
        "colab": {
          "base_uri": "https://localhost:8080/"
        },
        "id": "nvvOcS-AnwnM",
        "outputId": "268b1cc8-cfe8-47d8-d235-9340112d064f"
      },
      "source": [
        "# CHECKING FOR NULL VALUES\n",
        "train.isnull().sum()"
      ],
      "execution_count": 89,
      "outputs": [
        {
          "output_type": "execute_result",
          "data": {
            "text/plain": [
              "PhraseId      0\n",
              "SentenceId    0\n",
              "Phrase        0\n",
              "Sentiment     0\n",
              "Label         0\n",
              "dtype: int64"
            ]
          },
          "metadata": {
            "tags": []
          },
          "execution_count": 89
        }
      ]
    },
    {
      "cell_type": "code",
      "metadata": {
        "id": "YFIxxIVYyJLM"
      },
      "source": [
        "# TF_IDF VECTORIZER\n",
        "from sklearn.feature_extraction.text import TfidfVectorizer\n",
        "from nltk.tokenize import TweetTokenizer\n",
        "\n",
        "tokenizer = TweetTokenizer()\n",
        "\n",
        "vectorizer = TfidfVectorizer(ngram_range=(1, 3), tokenizer=tokenizer.tokenize)\n",
        "full_text = list(train['Phrase'].values) + list(test['Phrase'].values)\n",
        "\n",
        "vectorizer.fit(full_text)\n",
        "train_vectorized = vectorizer.transform(train['Phrase'])\n",
        "test_vectorized = vectorizer.transform(test['Phrase'])"
      ],
      "execution_count": 90,
      "outputs": []
    },
    {
      "cell_type": "code",
      "metadata": {
        "id": "OvE0pJdxsCzx"
      },
      "source": [
        "# SPLITTING TRAINING AND TEST DATA\n",
        "from sklearn.model_selection import train_test_split\n",
        "X = train_vectorized\n",
        "y = train['Sentiment']\n",
        "X_train,X_test,y_train,y_test = train_test_split(X,y,test_size=0.3)"
      ],
      "execution_count": 91,
      "outputs": []
    },
    {
      "cell_type": "code",
      "metadata": {
        "colab": {
          "base_uri": "https://localhost:8080/"
        },
        "id": "0ubfRc_Eww4x",
        "outputId": "e0230222-e078-4d48-94dd-695d07617c7a"
      },
      "source": [
        "# LOGISTIC REGRESSION\n",
        "from sklearn.linear_model import LogisticRegression\n",
        "from sklearn.metrics import accuracy_score, classification_report, confusion_matrix\n",
        "logreg = LogisticRegression(multi_class='ovr', solver='sag', random_state=42)\n",
        "logreg.fit(X_train, y_train)\n",
        "y_pred = logreg.predict(X_test)\n",
        "acc = accuracy_score(y_pred, y_test)\n",
        "lgacc = acc\n",
        "print('Accuracy: ', acc)\n",
        "print('\\nConfusion Matrix')\n",
        "print(confusion_matrix(y_test, y_pred))\n",
        "print('\\nClassification Report\\n')\n",
        "print(classification_report(y_test, y_pred))"
      ],
      "execution_count": 92,
      "outputs": [
        {
          "output_type": "stream",
          "text": [
            "Accuracy:  0.6250160194796873\n",
            "\n",
            "Confusion Matrix\n",
            "[[  339   913   826    26     3]\n",
            " [  152  2588  5306   155     4]\n",
            " [   25   925 21737  1080    23]\n",
            " [    2   117  5493  4016   253]\n",
            " [    0    18   661  1574   582]]\n",
            "\n",
            "Classification Report\n",
            "\n",
            "              precision    recall  f1-score   support\n",
            "\n",
            "           0       0.65      0.16      0.26      2107\n",
            "           1       0.57      0.32      0.41      8205\n",
            "           2       0.64      0.91      0.75     23790\n",
            "           3       0.59      0.41      0.48      9881\n",
            "           4       0.67      0.21      0.31      2835\n",
            "\n",
            "    accuracy                           0.63     46818\n",
            "   macro avg       0.62      0.40      0.44     46818\n",
            "weighted avg       0.62      0.63      0.59     46818\n",
            "\n"
          ],
          "name": "stdout"
        }
      ]
    },
    {
      "cell_type": "code",
      "metadata": {
        "id": "oobdpJ3o6bpt",
        "colab": {
          "base_uri": "https://localhost:8080/"
        },
        "outputId": "99d03f3f-8231-4b59-e9db-82817063a268"
      },
      "source": [
        "# K-NEAREST NEIGHBOUR CLASSIFIER\n",
        "from sklearn.neighbors import KNeighborsClassifier\n",
        "from sklearn.metrics import accuracy_score, classification_report, confusion_matrix\n",
        "knn = KNeighborsClassifier()\n",
        "knn.fit(X_train, y_train)\n",
        "y_pred = knn.predict(X_test)\n",
        "acc = accuracy_score(y_pred, y_test)\n",
        "knnacc = acc\n",
        "print('Accuracy: ', acc)\n",
        "print('\\nConfusion Matrix')\n",
        "print(confusion_matrix(y_test, y_pred))\n",
        "print('\\nClassification Report\\n')\n",
        "print(classification_report(y_test, y_pred))"
      ],
      "execution_count": 93,
      "outputs": [
        {
          "output_type": "stream",
          "text": [
            "Accuracy:  0.5866760647614165\n",
            "\n",
            "Confusion Matrix\n",
            "[[  845   922   314    25     1]\n",
            " [  950  4157  2829   248    21]\n",
            " [  574  3294 17066  2621   235]\n",
            " [   66   561  4058  4562   634]\n",
            " [   10    62   569  1357   837]]\n",
            "\n",
            "Classification Report\n",
            "\n",
            "              precision    recall  f1-score   support\n",
            "\n",
            "           0       0.35      0.40      0.37      2107\n",
            "           1       0.46      0.51      0.48      8205\n",
            "           2       0.69      0.72      0.70     23790\n",
            "           3       0.52      0.46      0.49      9881\n",
            "           4       0.48      0.30      0.37      2835\n",
            "\n",
            "    accuracy                           0.59     46818\n",
            "   macro avg       0.50      0.48      0.48     46818\n",
            "weighted avg       0.58      0.59      0.58     46818\n",
            "\n"
          ],
          "name": "stdout"
        }
      ]
    },
    {
      "cell_type": "code",
      "metadata": {
        "id": "vn1BjO55w3BU",
        "colab": {
          "base_uri": "https://localhost:8080/"
        },
        "outputId": "654c1cbd-ba9d-4339-fe40-33eabdfff545"
      },
      "source": [
        "# LINEAR SVC\n",
        "from sklearn.svm import LinearSVC\n",
        "from sklearn.metrics import accuracy_score, classification_report, confusion_matrix\n",
        "svc = LinearSVC(multi_class='ovr', random_state=42)\n",
        "svc.fit(X_train, y_train)\n",
        "y_pred = svc.predict(X_test)\n",
        "acc = accuracy_score(y_pred, y_test)\n",
        "svcacc = acc\n",
        "print('Accuracy: ', acc)\n",
        "print('\\nConfusion Matrix')\n",
        "print(confusion_matrix(y_test, y_pred))\n",
        "print('\\nClassification Report\\n')\n",
        "print(classification_report(y_test, y_pred))"
      ],
      "execution_count": 94,
      "outputs": [
        {
          "output_type": "stream",
          "text": [
            "Accuracy:  0.6516724336793541\n",
            "\n",
            "Confusion Matrix\n",
            "[[  779   985   322    20     1]\n",
            " [  657  4082  3265   191    10]\n",
            " [  145  1971 19398  2170   106]\n",
            " [   14   206  3649  5099   913]\n",
            " [    2    13   203  1465  1152]]\n",
            "\n",
            "Classification Report\n",
            "\n",
            "              precision    recall  f1-score   support\n",
            "\n",
            "           0       0.49      0.37      0.42      2107\n",
            "           1       0.56      0.50      0.53      8205\n",
            "           2       0.72      0.82      0.77     23790\n",
            "           3       0.57      0.52      0.54      9881\n",
            "           4       0.53      0.41      0.46      2835\n",
            "\n",
            "    accuracy                           0.65     46818\n",
            "   macro avg       0.57      0.52      0.54     46818\n",
            "weighted avg       0.64      0.65      0.64     46818\n",
            "\n"
          ],
          "name": "stdout"
        }
      ]
    },
    {
      "cell_type": "code",
      "metadata": {
        "id": "rGtn7yfDw0uo",
        "colab": {
          "base_uri": "https://localhost:8080/"
        },
        "outputId": "69279616-13d4-4233-a998-2a0a36794b81"
      },
      "source": [
        "# MULTINOMIAL NAIVE BAYES\n",
        "from sklearn.naive_bayes import MultinomialNB\n",
        "from sklearn.metrics import accuracy_score, classification_report, confusion_matrix\n",
        "nb = MultinomialNB()\n",
        "nb.fit(X_train, y_train)\n",
        "y_pred = nb.predict(X_test)\n",
        "acc = accuracy_score(y_pred, y_test)\n",
        "nbacc = acc\n",
        "print('Accuracy:', acc)\n",
        "print('\\nConfusion Matrix')\n",
        "print(confusion_matrix(y_test, y_pred))\n",
        "print('\\nClassification Report\\n')\n",
        "print(classification_report(y_test, y_pred))"
      ],
      "execution_count": 95,
      "outputs": [
        {
          "output_type": "stream",
          "text": [
            "Accuracy: 0.5933401683113333\n",
            "\n",
            "Confusion Matrix\n",
            "[[   45   719  1334     9     0]\n",
            " [   15  1770  6336    84     0]\n",
            " [    1   556 22298   933     2]\n",
            " [    0    52  6255  3545    29]\n",
            " [    0     5  1102  1607   121]]\n",
            "\n",
            "Classification Report\n",
            "\n",
            "              precision    recall  f1-score   support\n",
            "\n",
            "           0       0.74      0.02      0.04      2107\n",
            "           1       0.57      0.22      0.31      8205\n",
            "           2       0.60      0.94      0.73     23790\n",
            "           3       0.57      0.36      0.44      9881\n",
            "           4       0.80      0.04      0.08      2835\n",
            "\n",
            "    accuracy                           0.59     46818\n",
            "   macro avg       0.66      0.32      0.32     46818\n",
            "weighted avg       0.61      0.59      0.53     46818\n",
            "\n"
          ],
          "name": "stdout"
        }
      ]
    },
    {
      "cell_type": "code",
      "metadata": {
        "id": "3AJXQlaT84u6"
      },
      "source": [
        "# PREDICTING TEST SET USING LOGISTIC REGRESSION\n",
        "logreg_pred = logreg.predict(test_vectorized)\n",
        "results = pd.DataFrame()\n",
        "results['PhraseId'] = test.PhraseId\n",
        "results['Sentiment'] = logreg_pred\n",
        "results.to_csv('Results (Logistic Regression).csv',index=False)"
      ],
      "execution_count": 96,
      "outputs": []
    },
    {
      "cell_type": "code",
      "metadata": {
        "id": "QgWAb-kz-xi4"
      },
      "source": [
        "# PREDICTING TEST SET USING KNN\n",
        "knn_pred = knn.predict(test_vectorized)\n",
        "results = pd.DataFrame()\n",
        "results['PhraseId'] = test.PhraseId\n",
        "results['Sentiment'] = knn_pred\n",
        "results.to_csv('Results (KNN).csv',index=False)"
      ],
      "execution_count": 97,
      "outputs": []
    },
    {
      "cell_type": "code",
      "metadata": {
        "id": "Us-P9oA2-mT_"
      },
      "source": [
        "# PREDICTING TEST SET USING LINEAR SVC\n",
        "svc_pred = svc.predict(test_vectorized)\n",
        "results = pd.DataFrame()\n",
        "results['PhraseId'] = test.PhraseId\n",
        "results['Sentiment'] = svc_pred\n",
        "results.to_csv('Results (Linear SVC).csv',index=False)"
      ],
      "execution_count": 98,
      "outputs": []
    },
    {
      "cell_type": "code",
      "metadata": {
        "id": "VzojksN_-Nt5"
      },
      "source": [
        "# PREDICTING TEST SET USING MULTINOMIAL NAIVE BAYES\n",
        "nb_pred = nb.predict(test_vectorized)\n",
        "results = pd.DataFrame()\n",
        "results['PhraseId'] = test.PhraseId\n",
        "results['Sentiment'] = nb_pred\n",
        "results.to_csv('Results (Multinomial NB).csv',index=False)"
      ],
      "execution_count": 99,
      "outputs": []
    },
    {
      "cell_type": "code",
      "metadata": {
        "id": "D6PuDpjJ--i_",
        "colab": {
          "base_uri": "https://localhost:8080/",
          "height": 548
        },
        "outputId": "6c9be58c-72b8-4519-ac49-4c37db1585e5"
      },
      "source": [
        "# COMPARING ALL THE MODELS\n",
        "scores = [lgacc,knnacc,svcacc,nbacc]\n",
        "algorithms = [\"Logistic Regression\",\"KNN\",\"Linear SVC\",\"Multinomial NB\"]\n",
        "for i in range(len(algorithms)):\n",
        "    print(\"The accuracy score achieved using \"+algorithms[i]+\" is: \"+str(scores[i])+\" %\")\n",
        "sns.set(rc={'figure.figsize':(7,7)})\n",
        "plt.title(\"Comparison\")\n",
        "plt.xlabel(\"Algorithms\")\n",
        "plt.ylabel(\"Accuracy score\")\n",
        "sns.barplot(algorithms,scores)"
      ],
      "execution_count": 100,
      "outputs": [
        {
          "output_type": "stream",
          "text": [
            "The accuracy score achieved using Logistic Regression is: 0.6250160194796873 %\n",
            "The accuracy score achieved using KNN is: 0.5866760647614165 %\n",
            "The accuracy score achieved using Linear SVC is: 0.6516724336793541 %\n",
            "The accuracy score achieved using Multinomial NB is: 0.5933401683113333 %\n"
          ],
          "name": "stdout"
        },
        {
          "output_type": "execute_result",
          "data": {
            "text/plain": [
              "<matplotlib.axes._subplots.AxesSubplot at 0x7f43cd1810d0>"
            ]
          },
          "metadata": {
            "tags": []
          },
          "execution_count": 100
        },
        {
          "output_type": "display_data",
          "data": {
            "image/png": "[encoded data removed]",
            "text/plain": [
              "<Figure size 504x504 with 1 Axes>"
            ]
          },
          "metadata": {
            "tags": []
          }
        }
      ]
    }
  ]
}